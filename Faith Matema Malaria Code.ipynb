{
  "cells": [
    {
      "cell_type": "markdown",
      "source": [
        "## Importing the appropriate libraries\n"
      ],
      "metadata": {
        "id": "wS9nB_1B2wX0"
      }
    },
    {
      "cell_type": "code",
      "execution_count": null,
      "metadata": {
        "scrolled": true,
        "id": "u9OpGIkwNBTE"
      },
      "outputs": [],
      "source": [
        "import numpy as np\n",
        "import numpy.linalg as lg\n",
        "import networkx as nx\n",
        "import matplotlib.pyplot as plt\n",
        "import warnings\n",
        "import seaborn as sns\n",
        "from networkx.algorithms import bipartite\n",
        "warnings.filterwarnings(\"ignore\")\n",
        "import random\n"
      ]
    },
    {
      "cell_type": "code",
      "source": [
        "from google.colab import drive\n",
        "drive.mount('/content/drive')"
      ],
      "metadata": {
        "id": "XLiFSBGWNdRl"
      },
      "execution_count": null,
      "outputs": []
    },
    {
      "cell_type": "markdown",
      "source": [
        "## Accessing the data"
      ],
      "metadata": {
        "id": "RiKuGKH628ty"
      }
    },
    {
      "cell_type": "code",
      "execution_count": null,
      "metadata": {
        "id": "qQ5AugB7NBTF"
      },
      "outputs": [],
      "source": [
        "G1=nx.read_weighted_edgelist('/content/drive/MyDrive/Data 2023/ColoSpg.txt')\n",
        "A=nx.to_numpy_array(G1)#converts the graph G1 into a NumPy array A which represents the adjacency matrix of the graph\n",
        "G1=nx.from_numpy_array(A) #converts the NumPy array A back into a NetworkX graph G\n",
        "nx.draw_networkx(G1) #generates a network visualization of the graph G\n",
        "plt.axis('off') #ensures no axis appear on the plot\n",
        "plt.show()#gives output of the plot\n"
      ]
    },
    {
      "cell_type": "code",
      "source": [
        "degrees1 = [G1.degree(n) for n in G1.nodes()]\n",
        "sns.histplot(degrees1)\n",
        "plt.xlabel('Number of degrees')\n",
        "plt.ylabel('Number of nodes')\n",
        "plt.title('Degree distribution for Colorado network')"
      ],
      "metadata": {
        "id": "AWC2PINHYYhZ"
      },
      "execution_count": null,
      "outputs": []
    },
    {
      "cell_type": "markdown",
      "source": [
        "## Network statistics"
      ],
      "metadata": {
        "id": "d_X2tDHUM_j1"
      }
    },
    {
      "cell_type": "code",
      "source": [
        "len(G1.nodes()), len(G1.edges())"
      ],
      "metadata": {
        "id": "9rYZG_HKUQcZ"
      },
      "execution_count": null,
      "outputs": []
    },
    {
      "cell_type": "code",
      "source": [
        "density = nx.density(G1)\n",
        "density"
      ],
      "metadata": {
        "id": "UBlDGQCFJYO1"
      },
      "execution_count": null,
      "outputs": []
    },
    {
      "cell_type": "code",
      "source": [
        "transitivity = nx.transitivity(G1)\n",
        "transitivity"
      ],
      "metadata": {
        "id": "9Ikpkxg3KmxA"
      },
      "execution_count": null,
      "outputs": []
    },
    {
      "cell_type": "code",
      "source": [
        "diameter = nx.diameter(G1)\n",
        "diameter"
      ],
      "metadata": {
        "id": "6iSwxq7xLXdu"
      },
      "execution_count": null,
      "outputs": []
    },
    {
      "cell_type": "code",
      "source": [
        "nx.average_clustering(G1)"
      ],
      "metadata": {
        "id": "JtELO8cCMDqI"
      },
      "execution_count": null,
      "outputs": []
    },
    {
      "cell_type": "markdown",
      "source": [
        "## Erdos-Renyi random graph generation\n"
      ],
      "metadata": {
        "id": "7XsIw3ti3E2T"
      }
    },
    {
      "cell_type": "code",
      "source": [
        "n = len(G1.nodes())  # number of nodes\n",
        "e = len(G1.edges())  # number of edges\n",
        "seed = 427  # seed random number generators for reproducibility\n",
        "\n",
        "G2=nx.erdos_renyi_graph(n,e*2/n/(n-1))\n",
        "B=nx.to_numpy_array(G2)#converts the graph G2 into a NumPy array B which represents the adjacency matrix of the graph\n",
        "G2=nx.from_numpy_array(B) #converts the NumPy array B back into a NetworkX graph G2\n",
        "nx.draw_networkx(G2)\n",
        "plt.axis('off') #ensures no axis appear on the plot\n",
        "plt.show()\n"
      ],
      "metadata": {
        "id": "7XjPYNBNkRVR"
      },
      "execution_count": null,
      "outputs": []
    },
    {
      "cell_type": "code",
      "source": [
        "len(G2.nodes()),len(G2.edges())"
      ],
      "metadata": {
        "id": "vUE1Ola01sPR"
      },
      "execution_count": null,
      "outputs": []
    },
    {
      "cell_type": "markdown",
      "source": [
        "## Bipartite graph generation"
      ],
      "metadata": {
        "id": "vOCwWMK14ede"
      }
    },
    {
      "cell_type": "code",
      "execution_count": null,
      "metadata": {
        "id": "Z9G5dWLJ4K6J"
      },
      "outputs": [],
      "source": [
        "# We will let n2 be the number of humans in the bipartite model and\n",
        "# n3 = n - n2 is the number of mosquitoes\n",
        "# We will have about the same number of connections between mosquitoes and humans as there are in our other graphs\n",
        "e=np.ones(n)\n",
        "M=np.dot(e,np.dot(A,e))/2 #number of edges\n",
        "\n",
        "n2 = n\n",
        "n3 = round(n/2)\n",
        "d = M/n2/n3*2 #density of network"
      ]
    },
    {
      "cell_type": "code",
      "execution_count": null,
      "metadata": {
        "id": "71_jE0cu4K6K"
      },
      "outputs": [],
      "source": [
        "# Generate random bipartite matrix\n",
        "seed=430\n",
        "X=(np.random.rand(n2,n3)<d).astype(int)\n",
        "C=np.block([[np.zeros((n2,n2)),X],[np.transpose(X),np.zeros((n3,n3))]])\n",
        "e=np.ones(n2+n3)\n",
        "np.dot(e,np.dot(C,e))/2"
      ]
    },
    {
      "cell_type": "code",
      "execution_count": null,
      "metadata": {
        "id": "gMtanWH24K6K"
      },
      "outputs": [],
      "source": [
        "G3=nx.from_numpy_array(C)\n",
        "nx.draw_networkx(G3)\n",
        "plt.axis('off')\n",
        "plt.show()"
      ]
    },
    {
      "cell_type": "code",
      "source": [
        "# \"\"\"\n",
        "# This is an alternative way of generating the bipartite graph which visualises the graph in two distinct colours.\n",
        "# \"\"\"\n",
        "\n",
        "# G3 = nx.Graph()\n",
        "\n",
        "# # Define the number of human and mosquito nodes\n",
        "# n2 = n # Number of human nodes\n",
        "# n3 = round(n/2) # Number of mosquito nodes\n",
        "\n",
        "# # num_humans = len(G1.nodes()) # Number of human nodes\n",
        "# # num_mosquitoes = 50  # Number of mosquito nodes\n",
        "\n",
        "# # Generate node names with 'H' for humans and 'M' for mosquitoes\n",
        "# human_nodes = [f'H{i}' for i in range(1, n2 + 1)]\n",
        "# mosquito_nodes = [f'M{i}' for i in range(1, n3 + 1)]\n",
        "\n",
        "# G3.add_nodes_from(human_nodes, bipartite='human')\n",
        "# G3.add_nodes_from(mosquito_nodes, bipartite='mosquito')\n",
        "\n",
        "\n",
        "# # Add nodes to the graph\n",
        "# # G3.add_nodes_from([(node, {'bipartite': 'human'}) for node in human_nodes])\n",
        "# # G3.add_nodes_from([(node, {'bipartite': 'mosquito'}) for node in mosquito_nodes])\n",
        "\n",
        "# # Add edges to represent interactions\n",
        "# seed = 41\n",
        "# edges = [(random.choice(human_nodes), random.choice(mosquito_nodes)) for j in range(432)]\n",
        "# G3.add_edges_from(edges)\n",
        "\n",
        "# # Define node colors based on 'bipartite' attribute\n",
        "# node_colors = ['blue' if node[1]['bipartite'] == 'human' else 'red' for node in G3.nodes(data=True)]\n",
        "\n",
        "# C=nx.to_numpy_array(G3)#converts the graph G into a NumPy array A which represents the adjacency matrix of the graph\n",
        "# G3=nx.from_numpy_array(C) #converts the NumPy array A back into a NetworkX graph G\n",
        "\n",
        "\n",
        "# # visualizing the bipartite graph with different colors\n",
        "# pos = nx.kamada_kawai_layout(G3)\n",
        "# nx.draw(G3, pos, with_labels=True, node_color=node_colors, node_size=100)\n",
        "# plt.show()"
      ],
      "metadata": {
        "id": "Res7FTCQ6pr2"
      },
      "execution_count": null,
      "outputs": []
    },
    {
      "cell_type": "code",
      "source": [
        "len(G3.nodes()),len(G3.edges())"
      ],
      "metadata": {
        "id": "MfofbihmvATd"
      },
      "execution_count": null,
      "outputs": []
    },
    {
      "cell_type": "code",
      "source": [
        "bipartite.is_bipartite(G3) #Here we confirm if G3 is indeed bipartite"
      ],
      "metadata": {
        "id": "cOEBJedbsixb"
      },
      "execution_count": null,
      "outputs": []
    },
    {
      "cell_type": "markdown",
      "source": [
        "## Degree distributions for the three networks"
      ],
      "metadata": {
        "id": "gKu19YYzTPvw"
      }
    },
    {
      "cell_type": "code",
      "source": [
        "degrees1 = [G1.degree(n) for n in G1.nodes()]\n",
        "degrees2 = [G2.degree(n) for n in G2.nodes()]\n",
        "degrees3 = [G3.degree(n) for n in G3.nodes()]\n",
        "sns.distplot(degrees1,label='Real world')\n",
        "sns.distplot(degrees2,label='Erdos-Renyi')\n",
        "sns.distplot(degrees3,label='Bipartite')\n",
        "plt.xlabel('Number of degrees')\n",
        "plt.ylabel('Probability distribution')\n",
        "plt.title('Distribution plots for the networks')\n",
        "plt.legend()"
      ],
      "metadata": {
        "id": "nYIAJ33Z5Yef"
      },
      "execution_count": null,
      "outputs": []
    },
    {
      "cell_type": "code",
      "source": [
        "#Degree plot for undirected and unweighted graph\n",
        "degrees1 = [G1.degree(n) for n in G1.nodes()]\n",
        "degrees2 = [G2.degree(n) for n in G2.nodes()]\n",
        "degrees3 = [G3.degree(n) for n in G3.nodes()]\n",
        "sns.histplot(degrees1,label='Real world')\n",
        "sns.histplot(degrees2,label='Erdos-Renyi')\n",
        "sns.histplot(degrees3,label='Bipartite')\n",
        "plt.xlabel('Number of degrees')\n",
        "plt.ylabel('Number of nodes')\n",
        "plt.title('Degree distributions for the networks')\n",
        "plt.legend()"
      ],
      "metadata": {
        "id": "HyqbqMUm5ZgM"
      },
      "execution_count": null,
      "outputs": []
    },
    {
      "cell_type": "markdown",
      "source": [
        "## The Model\n",
        "\n",
        "This code was generated from the stochastic model explained in Chapter 3 by my supervisor Professor Philip Knight."
      ],
      "metadata": {
        "id": "GIltFI1l4p6b"
      }
    },
    {
      "cell_type": "code",
      "execution_count": null,
      "metadata": {
        "id": "2UWBN5EdNBTG"
      },
      "outputs": [],
      "source": [
        "def epi_step(A, p, n, gamma, beta):\n",
        "    \"\"\"\n",
        "    This function takes five parameters: A- Adjacency matrix of the network,p- A vector representing the state of the nodes\n",
        "    in the network, n- The number of nodes in the network, gamma-  recovery rate, beta- infection rate. The function is meant to update\n",
        "    the state of the epidemic for one time step on the given network.\n",
        "    \"\"\"\n",
        "    q = np.zeros(n)\n",
        "    for i in range(n):\n",
        "        z = 1 #variable initialized to 1. It will be used to calculate the state of the current node.\n",
        "        for j in range(n): #loops over whole network\n",
        "            z = z * (1 - beta * A[i, j] * p[j]) #calculates the change in state for the current node based on the state of its neighbors\n",
        "        q[i] = (1 - p[i]) * z + gamma * p[i] * z #calculates the new state of the current node i based on the change in state computed from\n",
        "        #its neighbors. It uses both p (the current state) and z (the change in state) as part of the calculation\n",
        "    p = 1 - q #updates the p variable to represent the new state of all nodes in the network\n",
        "    return p #returns updated state of the nodes"
      ]
    },
    {
      "cell_type": "markdown",
      "source": [
        "## Implementing model\n",
        "\n",
        "As part of the code I split the Trial function in two; to come up with Trial 2 incorporating the bipartite aspect. I also included the cumulative number of people infected."
      ],
      "metadata": {
        "id": "_ei-_iOb4sSb"
      }
    },
    {
      "cell_type": "code",
      "execution_count": null,
      "metadata": {
        "id": "WJ3c7u3XNBTH"
      },
      "outputs": [],
      "source": [
        "def trial(A, gamma, beta, m, init):\n",
        "    \"\"\"\n",
        "    This function takes five parameters: A- Adjacency matrix of the network, gamma- recovery rate, beta- infection rate,m- number of time\n",
        "    steps,init- initial state of nodes, which is generated randomly and then normalized to ensure that the sum of the initial states is 1.\n",
        "    Function simulates an epidemic spread over a specified number of time steps, m.\n",
        "    \"\"\"\n",
        "    t = np.zeros(m)\n",
        "    n = len(A)\n",
        "    p=init\n",
        "    for i in range(m): #looping over m time steps\n",
        "        t[i] = sum(p)#sums up the elements in the p vector (giving a cumulative array)\n",
        "        p = epi_step(A, p, n, gamma, beta) #function then calls the previous epi-step function\n",
        "    final_cumulative_state = sum(p)\n",
        "    return t, p, final_cumulative_state #After running the loop for m time steps, the function returns three values\n",
        "\n"
      ]
    },
    {
      "cell_type": "code",
      "source": [
        "def trial2(A, gamma, beta, m, init, n2):\n",
        "    t = np.zeros(m)\n",
        "    n = len(A)\n",
        "    p=init\n",
        "    for i in range(m):\n",
        "        t[i] = sum(p[0:n2-1])\n",
        "        p = epi_step(A, p, n, gamma, beta)\n",
        "    final_cumulative_state1 = sum(p[0:n2-1])\n",
        "    return t, p, final_cumulative_state1"
      ],
      "metadata": {
        "id": "67gblnmZAkEd"
      },
      "execution_count": null,
      "outputs": []
    },
    {
      "cell_type": "code",
      "execution_count": null,
      "metadata": {
        "id": "8Qd_FPeXNBTH"
      },
      "outputs": [],
      "source": [
        "m=100\n",
        "gamma=.05\n",
        "beta=.5\n",
        "init = np.random.rand(len(A))#corresponds to numpy A and B only(for G1 and G2)\n",
        "init =init/sum(init)\n",
        "init1 = np.random.rand(len(C))#corresponds to numpy C only(for G3)\n",
        "init1 =init1/sum(init1)"
      ]
    },
    {
      "cell_type": "code",
      "execution_count": null,
      "metadata": {
        "id": "KijsBUR0NBTI"
      },
      "outputs": [],
      "source": [
        "t1, p1, final_cumulative_state1 = trial(A, gamma, beta, m, init)  # Real world network\n",
        "t2, p2, final_cumulative_state2 = trial(B, gamma, beta, m, init)  # Random network\n",
        "t3, p3, final_cumulative_state3 = trial2(C, gamma, beta, m, init1,n2)  # Bipartite network"
      ]
    },
    {
      "cell_type": "code",
      "source": [
        "print(\"Final Cumulative State for Real world network:\", final_cumulative_state1)\n",
        "print(\"Final Cumulative State for Random network:\", final_cumulative_state2)\n",
        "print(\"Final Cumulative State for Bipartite network:\", final_cumulative_state3)"
      ],
      "metadata": {
        "id": "RVOU51-mJQMt"
      },
      "execution_count": null,
      "outputs": []
    },
    {
      "cell_type": "markdown",
      "source": [
        "## Visualisation of epidemic spread"
      ],
      "metadata": {
        "id": "7vdJWTymd0j_"
      }
    },
    {
      "cell_type": "code",
      "execution_count": null,
      "metadata": {
        "id": "awgZcoTDNBTI"
      },
      "outputs": [],
      "source": [
        "plt.clf()\n",
        "\n",
        "plt.plot(range(m),t1,label='Real-world Network', linestyle='-', color='red')#Real world network\n",
        "plt.plot(range(m),t2,label='Erdos-Renyi Network', linestyle='--', color='green')#Random network\n",
        "plt.plot(range(m),t3,label='Bipartite Network', linestyle='-.', color='blue')#Bipartite network\n",
        "plt.legend()\n",
        "plt.xlabel('Time (days)')\n",
        "plt.ylabel('Population Infected')\n",
        "plt.title('Epidemic dynamics over time')"
      ]
    }
  ],
  "metadata": {
    "kernelspec": {
      "display_name": "Python 3 (ipykernel)",
      "language": "python",
      "name": "python3"
    },
    "language_info": {
      "codemirror_mode": {
        "name": "ipython",
        "version": 3
      },
      "file_extension": ".py",
      "mimetype": "text/x-python",
      "name": "python",
      "nbconvert_exporter": "python",
      "pygments_lexer": "ipython3",
      "version": "3.11.2"
    },
    "colab": {
      "provenance": []
    }
  },
  "nbformat": 4,
  "nbformat_minor": 0
}